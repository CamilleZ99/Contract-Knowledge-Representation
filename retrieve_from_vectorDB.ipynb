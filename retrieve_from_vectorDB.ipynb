{
 "cells": [
  {
   "cell_type": "code",
   "execution_count": 3,
   "metadata": {},
   "outputs": [],
   "source": [
    "import os\n",
    "import getpass\n",
    "import openai\n",
    "from langchain.embeddings.openai import OpenAIEmbeddings\n",
    "from langchain.text_splitter import CharacterTextSplitter\n",
    "from langchain.vectorstores import Milvus\n",
    "from langchain.document_loaders import TextLoader\n",
    "from langchain.document_loaders import Docx2txtLoader\n",
    "openai_api_key = os.getenv(\"OPENAI_API_KEY\")\n",
    "\n",
    "loader = Docx2txtLoader(\"data/NEC_core_clause.docx\")\n",
    "documents = loader.load()\n",
    "text_splitter = CharacterTextSplitter(chunk_size=1000, chunk_overlap=0)\n"
   ]
  },
  {
   "cell_type": "code",
   "execution_count": 4,
   "metadata": {},
   "outputs": [],
   "source": [
    "docs = text_splitter.split_documents(documents)\n",
    "\n",
    "embeddings = OpenAIEmbeddings()"
   ]
  },
  {
   "cell_type": "code",
   "execution_count": 8,
   "metadata": {},
   "outputs": [
    {
     "data": {
      "text/plain": [
       "'four weeks after the Supervisor issues the Defects Certificate or\\n\\nthirteen weeks after the Project Manager issues a termination certificate.\\n\\nThe Project Manager gives the Contractor details of how the amount due has been assessed. The final payment is made within three weeks of the assessment or, if a different period is stated in the Contract Data, within the period stated.\\n\\n\\tIf the Project Manager does not make this assessment within the time allowed, the Contractor may issue to the Client an assessment of the final amount due, giving details of how the final amount due has been assessed. If the Client agrees with this assessment, a final payment is made within three weeks of the assessment or, if a different period is stated in the Contract Data, within the period stated.'"
      ]
     },
     "execution_count": 8,
     "metadata": {},
     "output_type": "execute_result"
    }
   ],
   "source": [
    "vector_db = Milvus.from_documents(\n",
    "    docs,\n",
    "    embeddings,\n",
    "    connection_args={\"host\": \"127.0.0.1\", \"port\": \"19530\"},\n",
    ")\n",
    "query = \"When should the Employer make the payment?\"\n",
    "docs = vector_db.similarity_search(query)\n",
    "docs[0].page_content"
   ]
  },
  {
   "cell_type": "markdown",
   "metadata": {},
   "source": [
    "'Subject to clause \\u200e20.12, the Owner shall pay to the Onshore Contractor the sum certified as due to the Onshore Contractor in an Interim Certificate within twenty (20) Days after the date of issue thereof provided that there is no Defect in any portion of the Works in respect of which such payment is proposed and the Onshore Contractor can demonstrate functional and consistent compliance with Environmental and Safety Laws and the Project’s HSE Management Plan. If there is any Defect in any portion of the Works in respect of which payment in proposed by the Onshore Contractor and such Defect is not material as determined by the Owner in its sole discretion, the Owner shall be entitled to make payment of the sum certified as due to the Onshore Contractor less any amount that the Owner considers should be deducted in respect of the Defect.\\n\\nFinal Completion Certificate'"
   ]
  },
  {
   "cell_type": "code",
   "execution_count": 9,
   "metadata": {},
   "outputs": [
    {
     "data": {
      "text/plain": [
       "'only be obligated to issue the Interim Certificate in relation to such application for the issue of an Interim Certificate in accordance with the terms and conditions set forth below including but not limited to in Clause 20.5 (Owner to Review the Application for Payment); or\\n\\nshall under no circumstances make application for the issue of an Interim Certificate in respect of Milestone Events if the Onshore Contractor is in breach of any of its bonding obligations under Clause 20 (LNTP Bond, Advance Payment Bond, Performance Bond, and Legal Opinion).\\n\\nOwner to Review the Application for Payment\\n\\nOn the Owner’s receipt of an application from the Onshore Contractor that complies with the requirements of clause \\u200e20.4, the Owner shall issue the Interim Certificate within fourteen 14 Days, provided that:'"
      ]
     },
     "execution_count": 9,
     "metadata": {},
     "output_type": "execute_result"
    }
   ],
   "source": [
    "query = \"When should the Employer issue the interim payment certificate?\"\n",
    "docs = vector_db.similarity_search(query)\n",
    "docs[0].page_content"
   ]
  },
  {
   "cell_type": "markdown",
   "metadata": {},
   "source": [
    "'only be obligated to issue the Interim Certificate in relation to such application for the issue of an Interim Certificate in accordance with the terms and conditions set forth below including but not limited to in Clause 20.5 (Owner to Review the Application for Payment); or\\n\\nshall under no circumstances make application for the issue of an Interim Certificate in respect of Milestone Events if the Onshore Contractor is in breach of any of its bonding obligations under Clause 20 (LNTP Bond, Advance Payment Bond, Performance Bond, and Legal Opinion).\\n\\nOwner to Review the Application for Payment\\n\\nOn the Owner’s receipt of an application from the Onshore Contractor that complies with the requirements of clause \\u200e20.4, the Owner shall issue the Interim Certificate within fourteen 14 Days, provided that:'\n"
   ]
  },
  {
   "cell_type": "markdown",
   "metadata": {},
   "source": [
    "'only be obligated to issue the Interim Certificate in relation to such application for the issue of an Interim Certificate in accordance with the terms and conditions set forth below including but not limited to in Clause 20.5 (Owner to Review the Application for Payment); or\\n\\nshall under no circumstances make application for the issue of an Interim Certificate in respect of Milestone Events if the Onshore Contractor is in breach of any of its bonding obligations under Clause 20 (LNTP Bond, Advance Payment Bond, Performance Bond, and Legal Opinion).\\n\\nOwner to Review the Application for Payment\\n\\nOn the Owner’s receipt of an application from the Onshore Contractor that complies with the requirements of clause \\u200e20.4, the Owner shall issue the Interim Certificate within fourteen 14 Days, provided that:'"
   ]
  },
  {
   "cell_type": "code",
   "execution_count": 4,
   "metadata": {},
   "outputs": [],
   "source": [
    "def gpt_response(prompt, temp=0.1):\n",
    "    primer = f\"\"\"You are a constuction contract expert. Here are some knowledge you should remember: The payment process in a construction project often includes these important events placed in time order: Employer receives Milestone Payment Application, Employer notifies Contractor about the satisfaction of the Milestone, Employer issues Milestone Completion Certificate, Employer makes Milestone Payment. Notice that there is a fine line between \"Employer notifies Contractor about the satisfaction of the Milestone\" and \"Employer issues Milestone Completion Certificate\": when Employer make clear that the application is approved or certify relevant documents (certificate), consider this event as \"Employer issues Milestone Completion Certificate\", elsewise the Employer still hold the possibility of further revise or reject, it is considered as \"Employer notifies Contractor about the satisfaction of the Milestone\".\\\n",
    "    Also, many concepts have multiple expressions. Supplier also means Contractor, Employer sometimes is called Purchaser, Owner, or the Company, it can also be represented by Employer's Engineer. Employer receives can be considered happen simultaneously as Contractor submits. Payment application, also known as payment request or payment certificate, is the statement with supporting documents (e.g. project report) submitted to the employer showing the amount that the Contractor considers to be due. Practical completion is sometimes described as being the point at which a building is complete.\\\n",
    "\"\"\"\n",
    "    res = openai.ChatCompletion.create(\n",
    "        model=\"gpt-4-0613\",\n",
    "        messages=[\n",
    "            {\"role\": \"system\", \"content\": primer},\n",
    "            {\"role\": \"user\", \"content\": prompt}\n",
    "        ],\n",
    "        temperature = temp,\n",
    "    )\n",
    "\n",
    "    return res['choices'][0]['message']['content']"
   ]
  },
  {
   "cell_type": "code",
   "execution_count": 11,
   "metadata": {},
   "outputs": [
    {
     "name": "stdout",
     "output_type": "stream",
     "text": [
      "[\"28 days\", \"21 days\", \"56 days\", \"Not mentioned\"]\n"
     ]
    }
   ],
   "source": [
    "res = gpt_response(joint_extraction_prompt)\n",
    "print(res)"
   ]
  }
 ],
 "metadata": {
  "kernelspec": {
   "display_name": "prompt_project",
   "language": "python",
   "name": "python3"
  },
  "language_info": {
   "codemirror_mode": {
    "name": "ipython",
    "version": 3
   },
   "file_extension": ".py",
   "mimetype": "text/x-python",
   "name": "python",
   "nbconvert_exporter": "python",
   "pygments_lexer": "ipython3",
   "version": "3.9.16"
  }
 },
 "nbformat": 4,
 "nbformat_minor": 2
}
